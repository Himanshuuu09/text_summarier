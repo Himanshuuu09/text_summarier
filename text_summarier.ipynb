{
 "cells": [
  {
   "cell_type": "code",
   "execution_count": 104,
   "metadata": {},
   "outputs": [
    {
     "name": "stderr",
     "output_type": "stream",
     "text": [
      "[nltk_data] Downloading package punkt_tab to\n",
      "[nltk_data]     C:\\Users\\OMR-09\\AppData\\Roaming\\nltk_data...\n",
      "[nltk_data]   Package punkt_tab is already up-to-date!\n"
     ]
    },
    {
     "data": {
      "text/plain": [
       "True"
      ]
     },
     "execution_count": 104,
     "metadata": {},
     "output_type": "execute_result"
    }
   ],
   "source": [
    "import re\n",
    "import nltk\n",
    "import math\n",
    "from nltk.tokenize import word_tokenize\n",
    "nltk.download('punkt_tab')"
   ]
  },
  {
   "cell_type": "code",
   "execution_count": 117,
   "metadata": {},
   "outputs": [],
   "source": [
    "def clean_data(filename):\n",
    "    # Open and read the entire file content\n",
    "    with open(filename, \"r\") as file:\n",
    "        filedata = file.read()\n",
    "\n",
    "    # Split the content into sentences\n",
    "    article = re.split(r'\\.\\s+', filedata)\n",
    "\n",
    "    # Initialize an empty list to hold cleaned sentences\n",
    "    sent = []\n",
    "\n",
    "    for sentence in article:\n",
    "        # Remove non-alphabetic characters and extra spaces\n",
    "        sentence = re.sub('[^a-zA-Z\\s]', \"\", sentence)\n",
    "        sentence = re.sub('\\s+', \" \", sentence).strip()\n",
    "        if sentence:  # Append only non-empty sentences\n",
    "            sent.append(sentence)\n",
    "\n",
    "    # Join the cleaned sentences into a single string\n",
    "    datas = \" \".join(sent)\n",
    "\n",
    "    print(\"Initial text:\")\n",
    "    print(filedata)\n",
    "    print('\\n')\n",
    "    print(\"Cleaned text:\")\n",
    "    print(datas)\n",
    "    print('\\n')\n",
    "\n",
    "    return datas"
   ]
  },
  {
   "cell_type": "code",
   "execution_count": 106,
   "metadata": {},
   "outputs": [],
   "source": [
    "def count(sent):\n",
    "    cnt=0\n",
    "    words=word_tokenize(sent)\n",
    "    for word in words:\n",
    "        cnt+=1\n",
    "    return cnt\n",
    "\n",
    "def cnt_inSent(sent):\n",
    "    txt_data=[]\n",
    "    i=0\n",
    "    for s in sent:\n",
    "        i+=1\n",
    "        data=count(s)\n",
    "        temp={\"id\":i, \"word_cnt\":data}\n",
    "        txt_data.append(temp)\n",
    "    return txt_data\n",
    "\n",
    "\n",
    "\n"
   ]
  },
  {
   "cell_type": "code",
   "execution_count": 107,
   "metadata": {},
   "outputs": [],
   "source": [
    "def freq_dict(sent):\n",
    "    i=0\n",
    "    freq_list=[]\n",
    "    for s in sent:\n",
    "        i+=1\n",
    "        freq={}\n",
    "        words=word_tokenize(s)\n",
    "        for char in words:\n",
    "            char=char.lower()\n",
    "            if char in freq:\n",
    "                freq[char]+=1\n",
    "            else:\n",
    "                freq[char]=1\n",
    "            temp={\"id\":1,\"freq_dict\":freq}\n",
    "        freq_list.append(temp)\n",
    "    return freq_list"
   ]
  },
  {
   "cell_type": "code",
   "execution_count": 108,
   "metadata": {},
   "outputs": [],
   "source": [
    "def calculate_tf(txt_data,freq_list):\n",
    "    tf_score=[]\n",
    "    for item in freq_list:\n",
    "        ID=item[\"id\"]\n",
    "        for k in item[\"freq_dict\"]:\n",
    "            temp={\"id\":ID,\"key\":k,\"tf_score\":item[\"freq_dict\"][k]/txt_data[ID-1][\"word_cnt\"]}\n",
    "            tf_score.append(temp)\n",
    "    return  tf_score"
   ]
  },
  {
   "cell_type": "code",
   "execution_count": 109,
   "metadata": {},
   "outputs": [],
   "source": [
    "def calculate_idf(txt_data,freq_list):\n",
    "    idf_score=[]\n",
    "    cnt=0\n",
    "    for item in freq_list:\n",
    "        cnt+=1\n",
    "        for k in item[\"freq_dict\"]:\n",
    "            val=sum([k in it[\"freq_dict\"] for it in freq_list])\n",
    "            temp={\n",
    "                \"id\":cnt,\n",
    "                \"idf_score\":math.log(len(txt_data)//(val+1)),\n",
    "                \"key\":k\n",
    "            }\n",
    "            idf_score.append(temp)\n",
    "    return idf_score\n"
   ]
  },
  {
   "cell_type": "code",
   "execution_count": 110,
   "metadata": {},
   "outputs": [],
   "source": [
    "def tfXidf(idf_score,tf_score):\n",
    "    tf_idf_score=[]\n",
    "    for j in idf_score:\n",
    "        for i in tf_score:\n",
    "            if j[\"key\"]==i[\"key\"] and j[\"id\"]==i[\"id\"]:\n",
    "                temp={\n",
    "                    \"id\":j[\"id\"],\n",
    "                    \"tfXidf\":i[\"tf_score\"]*j[\"idf_score\"],\n",
    "                    \"key\":j[\"key\"]\n",
    "                }\n",
    "                tf_idf_score.append(temp)\n",
    "    return tf_idf_score"
   ]
  },
  {
   "cell_type": "code",
   "execution_count": 111,
   "metadata": {},
   "outputs": [],
   "source": [
    "def ranking(tf_idf_score,sent,txt_data):\n",
    "    # calculate the ranking of the sentence\n",
    "    sent_data=[]\n",
    "    for txt in txt_data:\n",
    "        score=0\n",
    "        for i in range(len(tf_idf_score)):\n",
    "            t_dict=tf_idf_score[i]\n",
    "            if txt[\"id\"]==t_dict[\"id\"]:\n",
    "                score+=t_dict[\"tfXidf\"]\n",
    "        temp={\n",
    "            \"id\":txt[\"id\"],\n",
    "            \"score\":score,\n",
    "            \"sentence\":sent[txt[\"id\"]-1]\n",
    "        }\n",
    "        sent_data.append(temp)\n",
    "    return sent_data\n"
   ]
  },
  {
   "cell_type": "code",
   "execution_count": 119,
   "metadata": {},
   "outputs": [],
   "source": [
    "def summary(sent_data):\n",
    "    cnt=0\n",
    "    summary=[]\n",
    "    for t_dict in sent_data:\n",
    "        cnt+=t_dict['score']\n",
    "    avg=cnt/len(sent_data)\n",
    "    for sent in sent_data:\n",
    "        if sent['score'] >=(avg *0.1):\n",
    "            summary.append(sent[\"sentence\"])\n",
    "\n",
    "\n",
    "    summary=\" \".join(summary)\n",
    "    return summary\n"
   ]
  },
  {
   "cell_type": "code",
   "execution_count": 120,
   "metadata": {},
   "outputs": [
    {
     "name": "stdout",
     "output_type": "stream",
     "text": [
      "Initial text:\n",
      "Artificial Intelligence (AI) has ushered in a new era of technological advancement that is profoundly reshaping various sectors, with healthcare standing out as one of the most significantly impacted domains. The integration of AI into healthcare systems is not just an incremental improvement but a revolutionary change that enhances both the quality and efficiency of medical services. At its core, AI involves the use of algorithms and computational models that can learn from data and make decisions or predictions with minimal human intervention. This ability to analyze and interpret complex datasets with precision has transformative implications for healthcare delivery and management.\n",
      "\n",
      "One of the most notable applications of AI in healthcare is in medical imaging. AI algorithms, particularly those based on deep learning, are being used to interpret medical images such as X-rays, MRIs, and CT scans. Traditional methods of image analysis often require considerable time and expertise, with radiologists manually reviewing thousands of images to identify abnormalities. AI-driven tools, however, can process and analyze these images at an unprecedented speed, flagging potential issues with high accuracy. For instance, AI systems have demonstrated remarkable proficiency in detecting conditions like tumors, fractures, and neurological disorders. This capability not only accelerates the diagnostic process but also reduces the likelihood of human error, ultimately leading to earlier detection and more effective treatment.\n",
      "\n",
      "In addition to improving diagnostic accuracy, AI is playing a crucial role in personalized medicine. Personalized medicine, or precision medicine, is an approach that tailors medical treatment to the individual characteristics of each patient. AI enhances this approach by analyzing vast amounts of data, including genetic information, lifestyle factors, and previous health records, to predict how different treatments will affect a specific individual. This capability allows for the customization of treatment plans that are more effective and have fewer side effects compared to traditional one-size-fits-all approaches. For example, AI algorithms can analyze genetic mutations to predict an individualâ€™s response to certain drugs, enabling clinicians to choose the most appropriate medication and dosage for each patient.\n",
      "\n",
      "Furthermore, AI is revolutionizing drug discovery and development. The process of discovering and developing new drugs is notoriously time-consuming and expensive, often taking years and billions of dollars to bring a new drug to market. AI accelerates this process by predicting how different compounds will interact with biological targets, thus identifying promising candidates more quickly. Machine learning models can analyze large datasets from previous research and clinical trials to identify patterns and make predictions about the efficacy and safety of new drugs. This approach not only speeds up the drug discovery process but also increases the likelihood of successful outcomes, potentially leading to breakthroughs in the treatment of various diseases.\n",
      "\n",
      "AI is also making significant strides in enhancing patient care through predictive analytics. Predictive analytics involves using historical data to forecast future events, and in healthcare, it can be used to predict patient outcomes, hospital readmissions, and disease outbreaks. For example, AI models can analyze electronic health records (EHRs) to identify patients at high risk of developing chronic conditions, such as diabetes or heart disease, before symptoms appear. This proactive approach enables healthcare providers to implement preventive measures and personalized interventions, improving patient outcomes and reducing healthcare costs. Additionally, AI can optimize hospital operations by predicting patient admission rates, thereby improving resource allocation and reducing waiting times.\n",
      "\n",
      "Telemedicine, another area where AI is making a significant impact, involves the use of technology to provide remote medical services. AI-powered telemedicine platforms enable patients to consult with healthcare providers from the comfort of their homes, which is particularly valuable for those in remote or underserved areas. AI chatbots and virtual health assistants can handle routine inquiries, provide medical advice, and even monitor patients' health status through wearable devices. This not only improves access to healthcare but also helps reduce the burden on healthcare facilities and professionals, allowing them to focus on more complex cases.\n",
      "\n",
      "Despite these advancements, the integration of AI in healthcare also presents several challenges and ethical considerations. Data privacy and security are paramount concerns, as the use of AI requires the handling of sensitive patient information. Ensuring that AI systems comply with data protection regulations and that patient confidentiality is maintained is crucial for gaining public trust. Additionally, there is the risk of algorithmic bias, where AI systems may inadvertently perpetuate existing disparities in healthcare if they are trained on biased data. Addressing these issues requires rigorous oversight, transparency, and ongoing research to ensure that AI systems are fair and equitable.\n",
      "\n",
      "Moreover, the implementation of AI in healthcare requires collaboration between technology developers, healthcare providers, and policymakers. It is essential to establish guidelines and standards for the development and deployment of AI tools to ensure their safety, effectiveness, and ethical use. Continuous education and training for healthcare professionals are also necessary to equip them with the skills to effectively use AI technologies and interpret their results.\n",
      "\n",
      "In conclusion, AI has the potential to revolutionize healthcare by improving diagnostic accuracy, personalizing treatment, accelerating drug discovery, enhancing patient care, and expanding access through telemedicine. The ongoing advancements in AI hold promise for a future where healthcare is more efficient, effective, and tailored to individual needs. However, the successful integration of AI into healthcare systems requires addressing challenges related to data privacy, algorithmic bias, and ethical considerations. By navigating these challenges thoughtfully and collaboratively, the healthcare industry can harness the full potential of AI to improve patient outcomes and transform the way medical care is delivered\n",
      "\n",
      "\n",
      "Cleaned text:\n",
      "Artificial Intelligence AI has ushered in a new era of technological advancement that is profoundly reshaping various sectors with healthcare standing out as one of the most significantly impacted domains The integration of AI into healthcare systems is not just an incremental improvement but a revolutionary change that enhances both the quality and efficiency of medical services At its core AI involves the use of algorithms and computational models that can learn from data and make decisions or predictions with minimal human intervention This ability to analyze and interpret complex datasets with precision has transformative implications for healthcare delivery and management One of the most notable applications of AI in healthcare is in medical imaging AI algorithms particularly those based on deep learning are being used to interpret medical images such as Xrays MRIs and CT scans Traditional methods of image analysis often require considerable time and expertise with radiologists manually reviewing thousands of images to identify abnormalities AIdriven tools however can process and analyze these images at an unprecedented speed flagging potential issues with high accuracy For instance AI systems have demonstrated remarkable proficiency in detecting conditions like tumors fractures and neurological disorders This capability not only accelerates the diagnostic process but also reduces the likelihood of human error ultimately leading to earlier detection and more effective treatment In addition to improving diagnostic accuracy AI is playing a crucial role in personalized medicine Personalized medicine or precision medicine is an approach that tailors medical treatment to the individual characteristics of each patient AI enhances this approach by analyzing vast amounts of data including genetic information lifestyle factors and previous health records to predict how different treatments will affect a specific individual This capability allows for the customization of treatment plans that are more effective and have fewer side effects compared to traditional onesizefitsall approaches For example AI algorithms can analyze genetic mutations to predict an individuals response to certain drugs enabling clinicians to choose the most appropriate medication and dosage for each patient Furthermore AI is revolutionizing drug discovery and development The process of discovering and developing new drugs is notoriously timeconsuming and expensive often taking years and billions of dollars to bring a new drug to market AI accelerates this process by predicting how different compounds will interact with biological targets thus identifying promising candidates more quickly Machine learning models can analyze large datasets from previous research and clinical trials to identify patterns and make predictions about the efficacy and safety of new drugs This approach not only speeds up the drug discovery process but also increases the likelihood of successful outcomes potentially leading to breakthroughs in the treatment of various diseases AI is also making significant strides in enhancing patient care through predictive analytics Predictive analytics involves using historical data to forecast future events and in healthcare it can be used to predict patient outcomes hospital readmissions and disease outbreaks For example AI models can analyze electronic health records EHRs to identify patients at high risk of developing chronic conditions such as diabetes or heart disease before symptoms appear This proactive approach enables healthcare providers to implement preventive measures and personalized interventions improving patient outcomes and reducing healthcare costs Additionally AI can optimize hospital operations by predicting patient admission rates thereby improving resource allocation and reducing waiting times Telemedicine another area where AI is making a significant impact involves the use of technology to provide remote medical services AIpowered telemedicine platforms enable patients to consult with healthcare providers from the comfort of their homes which is particularly valuable for those in remote or underserved areas AI chatbots and virtual health assistants can handle routine inquiries provide medical advice and even monitor patients health status through wearable devices This not only improves access to healthcare but also helps reduce the burden on healthcare facilities and professionals allowing them to focus on more complex cases Despite these advancements the integration of AI in healthcare also presents several challenges and ethical considerations Data privacy and security are paramount concerns as the use of AI requires the handling of sensitive patient information Ensuring that AI systems comply with data protection regulations and that patient confidentiality is maintained is crucial for gaining public trust Additionally there is the risk of algorithmic bias where AI systems may inadvertently perpetuate existing disparities in healthcare if they are trained on biased data Addressing these issues requires rigorous oversight transparency and ongoing research to ensure that AI systems are fair and equitable Moreover the implementation of AI in healthcare requires collaboration between technology developers healthcare providers and policymakers It is essential to establish guidelines and standards for the development and deployment of AI tools to ensure their safety effectiveness and ethical use Continuous education and training for healthcare professionals are also necessary to equip them with the skills to effectively use AI technologies and interpret their results In conclusion AI has the potential to revolutionize healthcare by improving diagnostic accuracy personalizing treatment accelerating drug discovery enhancing patient care and expanding access through telemedicine The ongoing advancements in AI hold promise for a future where healthcare is more efficient effective and tailored to individual needs However the successful integration of AI into healthcare systems requires addressing challenges related to data privacy algorithmic bias and ethical considerations By navigating these challenges thoughtfully and collaboratively the healthcare industry can harness the full potential of AI to improve patient outcomes and transform the way medical care is delivered\n",
      "\n",
      "\n",
      "Summary:\n",
      "A\n"
     ]
    }
   ],
   "source": [
    "# Example of correct function calls assuming tf and idf are values\n",
    "file = clean_data(r\"D:\\\\text_summarier\\\\text.txt\")\n",
    "text_data = cnt_inSent(file)\n",
    "freq = freq_dict(file)\n",
    "\n",
    "# Ensure tf and idf are calculated and not called as functions\n",
    "tf_scores = calculate_tf(text_data, freq)\n",
    "idf_scores = calculate_idf(text_data, freq)\n",
    "\n",
    "# Multiplying TF and IDF\n",
    "tfidf_scores = tfXidf(idf_scores, tf_scores)\n",
    "\n",
    "# Ranking and summarizing\n",
    "rankings = ranking(tfidf_scores, file, text_data)\n",
    "result = summary(rankings)\n",
    "\n",
    "print(\"Summary:\")\n",
    "print(result)\n"
   ]
  },
  {
   "cell_type": "code",
   "execution_count": null,
   "metadata": {},
   "outputs": [],
   "source": []
  },
  {
   "cell_type": "code",
   "execution_count": null,
   "metadata": {},
   "outputs": [],
   "source": []
  }
 ],
 "metadata": {
  "kernelspec": {
   "display_name": "Python 3",
   "language": "python",
   "name": "python3"
  },
  "language_info": {
   "codemirror_mode": {
    "name": "ipython",
    "version": 3
   },
   "file_extension": ".py",
   "mimetype": "text/x-python",
   "name": "python",
   "nbconvert_exporter": "python",
   "pygments_lexer": "ipython3",
   "version": "3.11.0"
  }
 },
 "nbformat": 4,
 "nbformat_minor": 2
}
